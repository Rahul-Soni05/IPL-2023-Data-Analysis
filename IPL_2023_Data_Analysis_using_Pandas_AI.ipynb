{
  "nbformat": 4,
  "nbformat_minor": 0,
  "metadata": {
    "colab": {
      "provenance": []
    },
    "kernelspec": {
      "name": "python3",
      "display_name": "Python 3"
    },
    "language_info": {
      "name": "python"
    }
  },
  "cells": [
    {
      "cell_type": "code",
      "execution_count": null,
      "metadata": {
        "id": "SiwEgf7wmE4j"
      },
      "outputs": [],
      "source": [
        "!pip install -q pandasai"
      ]
    },
    {
      "cell_type": "code",
      "source": [
        "# Import the necessary libraries\n",
        "\n",
        "import pandas as pd\n",
        "from pandasai import PandasAI\n",
        "from pandasai.llm.openai import OpenAI"
      ],
      "metadata": {
        "colab": {
          "base_uri": "https://localhost:8080/",
          "height": 366
        },
        "collapsed": true,
        "id": "smB5gTXhmMx1",
        "outputId": "e50fa650-0ba5-42a1-c5f9-be02bd730216"
      },
      "execution_count": null,
      "outputs": [
        {
          "output_type": "error",
          "ename": "ImportError",
          "evalue": "cannot import name 'PandasAI' from 'pandasai' (/usr/local/lib/python3.10/dist-packages/pandasai/__init__.py)",
          "traceback": [
            "\u001b[0;31m---------------------------------------------------------------------------\u001b[0m",
            "\u001b[0;31mImportError\u001b[0m                               Traceback (most recent call last)",
            "\u001b[0;32m<ipython-input-3-fe0727b740b7>\u001b[0m in \u001b[0;36m<cell line: 4>\u001b[0;34m()\u001b[0m\n\u001b[1;32m      2\u001b[0m \u001b[0;34m\u001b[0m\u001b[0m\n\u001b[1;32m      3\u001b[0m \u001b[0;32mimport\u001b[0m \u001b[0mpandas\u001b[0m \u001b[0;32mas\u001b[0m \u001b[0mpd\u001b[0m\u001b[0;34m\u001b[0m\u001b[0;34m\u001b[0m\u001b[0m\n\u001b[0;32m----> 4\u001b[0;31m \u001b[0;32mfrom\u001b[0m \u001b[0mpandasai\u001b[0m \u001b[0;32mimport\u001b[0m \u001b[0mPandasAI\u001b[0m\u001b[0;34m\u001b[0m\u001b[0;34m\u001b[0m\u001b[0m\n\u001b[0m\u001b[1;32m      5\u001b[0m \u001b[0;32mfrom\u001b[0m \u001b[0mpandasai\u001b[0m\u001b[0;34m.\u001b[0m\u001b[0mllm\u001b[0m\u001b[0;34m.\u001b[0m\u001b[0mopenai\u001b[0m \u001b[0;32mimport\u001b[0m \u001b[0mOpenAI\u001b[0m\u001b[0;34m\u001b[0m\u001b[0;34m\u001b[0m\u001b[0m\n",
            "\u001b[0;31mImportError\u001b[0m: cannot import name 'PandasAI' from 'pandasai' (/usr/local/lib/python3.10/dist-packages/pandasai/__init__.py)",
            "",
            "\u001b[0;31m---------------------------------------------------------------------------\u001b[0;32m\nNOTE: If your import is failing due to a missing package, you can\nmanually install dependencies using either !pip or !apt.\n\nTo view examples of installing some common dependencies, click the\n\"Open Examples\" button below.\n\u001b[0;31m---------------------------------------------------------------------------\u001b[0m\n"
          ],
          "errorDetails": {
            "actions": [
              {
                "action": "open_url",
                "actionText": "Open Examples",
                "url": "/notebooks/snippets/importing_libraries.ipynb"
              }
            ]
          }
        }
      ]
    },
    {
      "cell_type": "code",
      "source": [
        "# Initialize an instance of OpenAI LLM and pass it’s API key\n",
        "\n",
        "# replace \"your_api_key\" with your generated key\n",
        "OPENAI_API_KEY = \"your_api_key\"\n",
        "llm = OpenAI(api_token=OPENAI_API_KEY)\n",
        "pandas_ai = PandasAI(llm)"
      ],
      "metadata": {
        "id": "lId4IzulmRnq"
      },
      "execution_count": null,
      "outputs": []
    },
    {
      "cell_type": "code",
      "source": [
        "# Import the IPL 2023 Auction dataset using pandas\n",
        "\n",
        "df = pd.read_csv('IPL_Squad_2023_Auction_Dataset.csv')\n",
        "print(df.shape)\n",
        "df.head()"
      ],
      "metadata": {
        "id": "DKfJohxUmRlV"
      },
      "execution_count": null,
      "outputs": []
    },
    {
      "cell_type": "code",
      "source": [
        "# Drop the “Unnamed: 0” column from the above dataset\n",
        "\n",
        "df.drop(['Unnamed: 0'], axis=1, inplace=True)\n",
        "df.head()"
      ],
      "metadata": {
        "id": "0YN1iI94mRi6"
      },
      "execution_count": null,
      "outputs": []
    },
    {
      "cell_type": "markdown",
      "source": [
        "**Data Analysis using PandasAI**"
      ],
      "metadata": {
        "id": "aALblzMgmzsW"
      }
    },
    {
      "cell_type": "code",
      "source": [
        "pandas_ai.run(df, prompt=\"Which players are the most costliest buys?\")"
      ],
      "metadata": {
        "id": "Vb2i-EMKmRfx"
      },
      "execution_count": null,
      "outputs": []
    },
    {
      "cell_type": "code",
      "source": [
        "prompts = \"\"\"\n",
        "Which players were the cheapest buys this season and which team bought them?\n",
        "\"\"\"\n",
        "pandas_ai.run(df, prompt=prompts)"
      ],
      "metadata": {
        "id": "Zyb1cd7um2yt"
      },
      "execution_count": null,
      "outputs": []
    },
    {
      "cell_type": "code",
      "source": [
        "prompts = \"\"\"\n",
        "Draw a Bargraph showing How much money was spent by each team this season overall.\n",
        "\"\"\"\n",
        "pandas_ai.run(df, prompt=prompts)"
      ],
      "metadata": {
        "id": "lNrjinGdm2vA"
      },
      "execution_count": null,
      "outputs": []
    },
    {
      "cell_type": "code",
      "source": [
        "pandas_ai.run(df, prompt=\"How many bowler remained unsold and what was their base price?\")"
      ],
      "metadata": {
        "id": "A5qDqV0Fm2sS"
      },
      "execution_count": null,
      "outputs": []
    },
    {
      "cell_type": "code",
      "source": [
        "pandas_ai.run(df, prompt=\"How many players remained unsold this season?\")"
      ],
      "metadata": {
        "id": "W7s_JM9Mm2p-"
      },
      "execution_count": null,
      "outputs": []
    },
    {
      "cell_type": "code",
      "source": [
        "pandas_ai.run(df, prompt=\"Which type of players were majorly unsold?\")"
      ],
      "metadata": {
        "id": "_EzTJvKam2nA"
      },
      "execution_count": null,
      "outputs": []
    },
    {
      "cell_type": "code",
      "source": [
        "pandas_ai.run(df, prompt=\"Who are three new players Gujrat picked?\")"
      ],
      "metadata": {
        "id": "WaB5fZ1Bm2kV"
      },
      "execution_count": null,
      "outputs": []
    },
    {
      "cell_type": "code",
      "source": [
        "pandas_ai.run(df, prompt=\"What is total money spent by all teams in dollars?\")"
      ],
      "metadata": {
        "id": "_yk56XY1m2hK"
      },
      "execution_count": null,
      "outputs": []
    },
    {
      "cell_type": "code",
      "source": [
        "prompts = \"\"\"\n",
        "draw a barplot showing\n",
        "how much money was spent by Mumbai Indians on all types of players?\n",
        "\"\"\"\n",
        "pandas_ai.run(df, prompt=prompts)"
      ],
      "metadata": {
        "id": "Vj5g3g9snIDz"
      },
      "execution_count": null,
      "outputs": []
    },
    {
      "cell_type": "code",
      "source": [
        "prompts = \"\"\"\n",
        "draw a barplot showing how much money was spent by Gujrat on all types of players?\n",
        "\"\"\"\n",
        "pandas_ai.run(df, prompt=prompts)"
      ],
      "metadata": {
        "id": "p5iryXbknIxg"
      },
      "execution_count": null,
      "outputs": []
    },
    {
      "cell_type": "code",
      "source": [
        "pandas_ai.run(df, prompt=\"Can you predict which team will buy Sam Curran in 2024?\")"
      ],
      "metadata": {
        "id": "FGwSBe4snIur"
      },
      "execution_count": null,
      "outputs": []
    },
    {
      "cell_type": "code",
      "source": [
        "print(pandas_ai.run(df, prompt=\"Can you predict which team will spend the highest money in 2024?\"))"
      ],
      "metadata": {
        "id": "htM_7Um0nIr_"
      },
      "execution_count": null,
      "outputs": []
    },
    {
      "cell_type": "code",
      "source": [
        "pandas_ai.run(df, prompt=\"Perform univariate analysis\")"
      ],
      "metadata": {
        "id": "ii9eqxLHnH3t"
      },
      "execution_count": null,
      "outputs": []
    },
    {
      "cell_type": "code",
      "source": [
        "pandas_ai.run(df, prompt=\"Perform multivariate analysis\")"
      ],
      "metadata": {
        "id": "WG06KA0TnH1B"
      },
      "execution_count": null,
      "outputs": []
    }
  ]
}